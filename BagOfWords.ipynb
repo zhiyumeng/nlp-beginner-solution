{
 "cells": [
  {
   "cell_type": "code",
   "execution_count": 1,
   "metadata": {},
   "outputs": [],
   "source": [
    "#codes reference: https://www.kaggle.com/c/word2vec-nlp-tutorial/overview/part-1-for-beginners-bag-of-words"
   ]
  },
  {
   "cell_type": "code",
   "execution_count": 12,
   "metadata": {},
   "outputs": [],
   "source": [
    "import config as cfg\n",
    "import pandas as pd\n",
    "from os.path import join\n",
    "import re\n",
    "import nltk\n",
    "import numpy as np\n",
    "from tqdm import tqdm\n",
    "from sklearn.model_selection import KFold\n",
    "from sklearn.model_selection import train_test_split\n",
    "from sklearn.feature_extraction.text import CountVectorizer\n",
    "#nltk.download()\n",
    "from nltk.corpus import stopwords # Import the stop word list\n",
    "DATA_DIR = cfg.DATA_PATH\n",
    "\n",
    "\n",
    "def load_data():\n",
    "    train_df = pd.read_csv(join(DATA_DIR, 'train.tsv'), delimiter='\\t')\n",
    "    X_train,X_test, y_train, y_test =train_test_split(train_df['Phrase'],train_df['Sentiment'],test_size=0.3, random_state=0)\n",
    "    return X_train,X_test, y_train, y_test"
   ]
  },
  {
   "cell_type": "code",
   "execution_count": 8,
   "metadata": {},
   "outputs": [
    {
     "name": "stdout",
     "output_type": "stream",
     "text": [
      "109242\n",
      "46818\n",
      "179\n"
     ]
    }
   ],
   "source": [
    "X_train,X_test, y_train, y_test = load_data()\n",
    "print(len(X_train))\n",
    "print(len(X_test))\n",
    "print(len(stopwords.words(\"english\") ))"
   ]
  },
  {
   "cell_type": "code",
   "execution_count": 9,
   "metadata": {},
   "outputs": [],
   "source": [
    "def review_to_words( raw_review ):\n",
    "    #除掉非字母字符\n",
    "    letters_only = re.sub(\"[^a-zA-Z]\", \" \", raw_review) \n",
    "    \n",
    "    #小写化\n",
    "    words = letters_only.lower().split()                             \n",
    "    \n",
    "    #在set中搜索比在list中快很多\n",
    "    stops = set(stopwords.words(\"english\"))                  \n",
    "\n",
    "    #去停用词\n",
    "    meaningful_words = [w for w in words if not w in stops]   \n",
    "    \n",
    "    return( \" \".join( meaningful_words ))"
   ]
  },
  {
   "cell_type": "code",
   "execution_count": 13,
   "metadata": {},
   "outputs": [
    {
     "name": "stderr",
     "output_type": "stream",
     "text": [
      "100%|████████████████████████████████████████████████████████████████████████| 109242/109242 [00:57<00:00, 1967.64it/s]\n",
      "100%|██████████████████████████████████████████████████████████████████████████| 46818/46818 [00:23<00:00, 1976.56it/s]\n"
     ]
    }
   ],
   "source": [
    "X_train = [review_to_words(review) for review in tqdm(X_train)]\n",
    "X_test = [review_to_words(review) for review in tqdm(X_test)]"
   ]
  },
  {
   "cell_type": "code",
   "execution_count": 20,
   "metadata": {},
   "outputs": [],
   "source": [
    "\n",
    "from sklearn.feature_extraction.text import CountVectorizer\n",
    "\n",
    "# Initialize the \"CountVectorizer\" object, which is scikit-learn's\n",
    "# bag of words tool.  \n",
    "vectorizer = CountVectorizer(analyzer = \"word\",   \\\n",
    "                             tokenizer = None,    \\\n",
    "                             preprocessor = None, \\\n",
    "                             stop_words = None,   \\\n",
    "                             max_features = 5000) \n",
    "\n",
    "# fit_transform() does two functions: First, it fits the model\n",
    "# and learns the vocabulary; second, it transforms our training data\n",
    "# into feature vectors. The input to fit_transform should be a list of \n",
    "# strings.\n",
    "X_train_features = vectorizer.fit_transform(X_train)\n",
    "X_train_features = X_train_features.toarray()\n",
    "\n",
    "X_test_features = vectorizer.fit_transform(X_test)\n",
    "X_test_features = X_test_features.toarray()"
   ]
  },
  {
   "cell_type": "code",
   "execution_count": 21,
   "metadata": {},
   "outputs": [
    {
     "name": "stderr",
     "output_type": "stream",
     "text": [
      "C:\\ProgramData\\Anaconda3\\envs\\torch_env\\lib\\site-packages\\sklearn\\linear_model\\logistic.py:432: FutureWarning: Default solver will be changed to 'lbfgs' in 0.22. Specify a solver to silence this warning.\n",
      "  FutureWarning)\n",
      "C:\\ProgramData\\Anaconda3\\envs\\torch_env\\lib\\site-packages\\sklearn\\linear_model\\logistic.py:469: FutureWarning: Default multi_class will be changed to 'auto' in 0.22. Specify the multi_class option to silence this warning.\n",
      "  \"this warning.\", FutureWarning)\n"
     ]
    }
   ],
   "source": [
    "from sklearn import linear_model\n",
    "\n",
    "# 4. 训练逻辑回归模型\n",
    "logreg = linear_model.LogisticRegression(C=1e5)\n",
    "logreg.fit(X_train_features, y_train)\n",
    " \n",
    "# 5. 预测\n",
    "prepro = logreg.predict_proba(X_test_features)\n",
    "acc = logreg.score(X_test_features,y_test)"
   ]
  },
  {
   "cell_type": "code",
   "execution_count": 39,
   "metadata": {},
   "outputs": [
    {
     "data": {
      "text/plain": [
       "0.4746251441753172"
      ]
     },
     "execution_count": 39,
     "metadata": {},
     "output_type": "execute_result"
    }
   ],
   "source": [
    "np.sum(prepro.argmax(axis=1)==y_test)/len(y_test)"
   ]
  }
 ],
 "metadata": {
  "kernelspec": {
   "display_name": "torch_env",
   "language": "python",
   "name": "torch_env"
  },
  "language_info": {
   "codemirror_mode": {
    "name": "ipython",
    "version": 3
   },
   "file_extension": ".py",
   "mimetype": "text/x-python",
   "name": "python",
   "nbconvert_exporter": "python",
   "pygments_lexer": "ipython3",
   "version": "3.7.3"
  }
 },
 "nbformat": 4,
 "nbformat_minor": 2
}
